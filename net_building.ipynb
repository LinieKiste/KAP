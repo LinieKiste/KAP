{
 "cells": [
  {
   "cell_type": "code",
   "execution_count": 1,
   "metadata": {},
   "outputs": [
    {
     "data": {
      "text/plain": [
       "'cpu'"
      ]
     },
     "execution_count": 1,
     "metadata": {},
     "output_type": "execute_result"
    }
   ],
   "source": [
    "import torch\n",
    "from utils.loader import DicomDataset3D\n",
    "from torch.utils.data import DataLoader\n",
    "from matplotlib import pyplot as plt\n",
    "import utils.notebooks as nb\n",
    "\n",
    "train_dataloader = DataLoader(DicomDataset3D(\"data/train.csv\"), batch_size=2)\n",
    "test_dataloader = DataLoader(DicomDataset3D(\"data/test.csv\"), batch_size=2)\n",
    "\n",
    "device = \"cuda\" if torch.cuda.is_available() else \"cpu\"\n",
    "device"
   ]
  },
  {
   "cell_type": "code",
   "execution_count": 2,
   "metadata": {},
   "outputs": [
    {
     "name": "stdout",
     "output_type": "stream",
     "text": [
      "inputs shape: torch.Size([2, 1, 91, 256, 256])\n",
      "labels shape: torch.Size([2, 1, 91, 256, 256])\n",
      "inputs type: torch.bfloat16\n",
      "labels type: torch.bfloat16\n"
     ]
    }
   ],
   "source": [
    "train_features, train_labels = next(iter(train_dataloader))\n",
    "print(f'inputs shape: {train_features.shape}')\n",
    "print(f'labels shape: {train_labels.shape}')\n",
    "feat1, label1 = train_features[0], train_labels[0]\n",
    "print(f'inputs type: {feat1.dtype}')\n",
    "print(f'labels type: {label1.dtype}')"
   ]
  },
  {
   "attachments": {},
   "cell_type": "markdown",
   "metadata": {},
   "source": [
    "### Single ConvBlock"
   ]
  },
  {
   "cell_type": "code",
   "execution_count": 5,
   "metadata": {},
   "outputs": [
    {
     "data": {
      "text/plain": [
       "torch.Size([2, 8, 91, 256, 256])"
      ]
     },
     "execution_count": 5,
     "metadata": {},
     "output_type": "execute_result"
    }
   ],
   "source": [
    "from models.WNet import *\n",
    "input = train_features.to(device)\n",
    "\n",
    "conv_block = ConvBlock(1, 8)\n",
    "# with torch.autocast(device_type=device, dtype=torch.bfloat16):\n",
    "x = conv_block(input)\n",
    "x.shape"
   ]
  },
  {
   "attachments": {},
   "cell_type": "markdown",
   "metadata": {},
   "source": [
    "### Encoder"
   ]
  },
  {
   "cell_type": "code",
   "execution_count": null,
   "metadata": {},
   "outputs": [],
   "source": [
    "layers = [8, 16, 32]\n",
    "\n",
    "conv_block = ConvBlock(1, 8)\n",
    "encoder = Encoder(layers)\n",
    "x = conv_block(input)\n",
    "x = encoder(x)\n",
    "for ftr in x: print(ftr.shape)"
   ]
  },
  {
   "attachments": {},
   "cell_type": "markdown",
   "metadata": {},
   "source": [
    "### Decoder"
   ]
  },
  {
   "cell_type": "code",
   "execution_count": null,
   "metadata": {},
   "outputs": [
    {
     "data": {
      "text/plain": [
       "torch.Size([2, 8, 91, 512, 512])"
      ]
     },
     "execution_count": 5,
     "metadata": {},
     "output_type": "execute_result"
    }
   ],
   "source": [
    "encoder = Decoder(layers)\n",
    "x = conv_block(input)\n",
    "x.shape"
   ]
  }
 ],
 "metadata": {
  "kernelspec": {
   "display_name": "Python 3",
   "language": "python",
   "name": "python3"
  },
  "language_info": {
   "codemirror_mode": {
    "name": "ipython",
    "version": 3
   },
   "file_extension": ".py",
   "mimetype": "text/x-python",
   "name": "python",
   "nbconvert_exporter": "python",
   "pygments_lexer": "ipython3",
   "version": "3.10.9"
  },
  "orig_nbformat": 4,
  "vscode": {
   "interpreter": {
    "hash": "767d51c1340bd893661ea55ea3124f6de3c7a262a8b4abca0554b478b1e2ff90"
   }
  }
 },
 "nbformat": 4,
 "nbformat_minor": 2
}
