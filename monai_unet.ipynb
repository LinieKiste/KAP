{
 "cells": [
  {
   "cell_type": "code",
   "execution_count": null,
   "metadata": {},
   "outputs": [],
   "source": [
    "import os\n",
    "import torch\n",
    "import numpy as np\n",
    "import matplotlib.pyplot as plt\n",
    "from torch.utils.data import DataLoader\n",
    "from monai.networks.nets import UNet\n",
    "\n",
    "from utils.loader import DicomDataset3D\n",
    "\n",
    "BATCH_SIZE = 2\n",
    "EPOCHS = 60\n",
    "device = 'cuda' if torch.cuda.is_available() else 'cpu'\n",
    "\n",
    "# Use MONAI's 3D UNet implementation\n",
    "model = UNet(\n",
    "    spatial_dims=3,\n",
    "    in_channels=1,\n",
    "    out_channels=1,\n",
    "    channels=(8, 16, 32, 64),\n",
    "    strides=(2, 2, 2),\n",
    "    num_res_units=2,\n",
    ").to(device)\n",
    "\n",
    "train_dataloader = DataLoader(DicomDataset3D(\"data/train.csv\"), batch_size=BATCH_SIZE)\n",
    "test_dataloader = DataLoader(DicomDataset3D(\"data/test.csv\"), batch_size=BATCH_SIZE)\n",
    "\n",
    "optimizer = torch.optim.Adam(model.parameters(), lr=0.04)\n",
    "\n",
    "pos_weight = torch.tensor([70]).to(device)\n",
    "criterion = torch.nn.BCEWithLogitsLoss(pos_weight=pos_weight).to(device)\n"
   ]
  },
  {
   "cell_type": "code",
   "execution_count": null,
   "metadata": {},
   "outputs": [],
   "source": [
    "for epoch in range(EPOCHS):\n",
    "    for data in iter(train_dataloader):\n",
    "        inputs, labels = data\n",
    "        inputs, labels = inputs.to(device), labels.to(device)\n",
    "        optimizer.zero_grad()\n",
    "\n",
    "        output = model(inputs)\n",
    "        loss = criterion(output, labels)\n",
    "\n",
    "        loss.backward()\n",
    "        optimizer.step()\n",
    "    print(loss)\n",
    "\n",
    "torch.save(model.state_dict(), './state_dicts/monai_unet.pk')"
   ]
  },
  {
   "cell_type": "code",
   "execution_count": null,
   "metadata": {},
   "outputs": [],
   "source": [
    "import utils.notebooks as nb\n",
    "\n",
    "with torch.no_grad():\n",
    "    x, y = next(iter(train_dataloader))\n",
    "    if torch.cuda.is_available():\n",
    "        x, y = x.cuda(), y.cuda()\n",
    "    pred = model(x)\n",
    "    pred = torch.nn.Sigmoid()(pred)\n",
    "    print(pred.shape)\n",
    "    nb.show(x[0], 45)\n",
    "    nb.show(pred[0], 45)\n",
    "    nb.show(y[0], 45)\n",
    "    print(torch.min(pred))\n",
    "    print(torch.max(pred))"
   ]
  }
 ],
 "metadata": {
  "kernelspec": {
   "display_name": "venv",
   "language": "python",
   "name": "python3"
  },
  "language_info": {
   "codemirror_mode": {
    "name": "ipython",
    "version": 3
   },
   "file_extension": ".py",
   "mimetype": "text/x-python",
   "name": "python",
   "nbconvert_exporter": "python",
   "pygments_lexer": "ipython3",
   "version": "3.10.10"
  },
  "orig_nbformat": 4
 },
 "nbformat": 4,
 "nbformat_minor": 2
}
